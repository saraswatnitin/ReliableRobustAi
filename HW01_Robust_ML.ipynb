{
  "nbformat": 4,
  "nbformat_minor": 0,
  "metadata": {
    "colab": {
      "provenance": [],
      "gpuType": "T4",
      "include_colab_link": true
    },
    "kernelspec": {
      "name": "python3",
      "display_name": "Python 3"
    },
    "language_info": {
      "name": "python"
    },
    "accelerator": "GPU"
  },
  "cells": [
    {
      "cell_type": "markdown",
      "metadata": {
        "id": "view-in-github",
        "colab_type": "text"
      },
      "source": [
        "<a href=\"https://colab.research.google.com/github/saraswatnitin/ReliableRobustAi/blob/main/HW01_Robust_ML.ipynb\" target=\"_parent\"><img src=\"https://colab.research.google.com/assets/colab-badge.svg\" alt=\"Open In Colab\"/></a>"
      ]
    },
    {
      "cell_type": "markdown",
      "source": [
        "# Welcome to Homework #1: Robust ML!\n",
        "In this homework assignment you will complete the following three tasks\n",
        "1. Implement Empirical Risk Minimization\n",
        "2. Implement GroupDRO Algorithm following the lecture. For more information you can look at the original paper:\n",
        " > [Sagawa, Shiori, et al. \"Distributionally robust neural networks for group shifts: On the importance of regularization for worst-case generalization.\" International Conference on Learning Representations (ICLR), 2020.](https://arxiv.org/abs/1911.08731)\n",
        "3. Fine-tune a pre-trained vision transformer\n",
        "4. Compare robustness properties of the three approaches\n",
        "\n",
        "\n",
        "##IMPORTANT:\n",
        "  > Before you get started, select `Runtime > Change runtime type` and select `GPU` for your hardware accelerator.\n",
        "\n",
        "\n",
        "##A couple of notes\n",
        "1. Make sure to run each cell in order!\n",
        "2. Only fill in code in sections marked as follows:\n",
        "```\n",
        "# <<<<<< Put your code here\n",
        "# Write your code\n",
        "# >>>>>\n",
        "```\n",
        "\n",
        "Let's get started!\n",
        "\n"
      ],
      "metadata": {
        "id": "dDzfiLFORA7v"
      }
    },
    {
      "cell_type": "markdown",
      "source": [
        "## Environment Setup"
      ],
      "metadata": {
        "id": "kIfb_GoAlvGr"
      }
    },
    {
      "cell_type": "markdown",
      "source": [
        "First we have to install the `wilds` python package which will give us access to the Waterbirds dataset. Run the command and give it ~1 min to install."
      ],
      "metadata": {
        "id": "t7VeWYBDTCWZ"
      }
    },
    {
      "cell_type": "code",
      "source": [
        "%%capture\n",
        "!pip install wilds"
      ],
      "metadata": {
        "id": "ht-aSxaeO-VD"
      },
      "execution_count": null,
      "outputs": []
    },
    {
      "cell_type": "markdown",
      "source": [
        "Now we load each of the packages we need for the worksheet. See the comments for the purpose of each"
      ],
      "metadata": {
        "id": "IkR-pJgYTS36"
      }
    },
    {
      "cell_type": "code",
      "source": [
        "from wilds import get_dataset # Function to download wilds datasets\n",
        "import torch # Pytorch library used for defining and training ML models\n",
        "import torch.nn as nn # the nerual network library used for defining models\n",
        "from torch.utils.data import DataLoader # Used for wrapping and iterating through out data\n",
        "import torchvision # Package with utilities for computer vision such as pretrained models\n",
        "import torchvision.transforms as transforms # Set of image transforms for processing image inputs\n",
        "\n",
        "import numpy as np # Numpy used for general array manipulation\n",
        "import matplotlib.pyplot as plt # Used for showing images\n",
        "import pandas as pd # Used for storing our results\n",
        "\n",
        "from tqdm import tqdm # Progress bar while training\n",
        "import warnings # Give warnings, such as if CUDA is unavailable\n",
        "import multiprocessing # Allows us to check the number of available CPUS"
      ],
      "metadata": {
        "id": "Kel5_ptAtPE_"
      },
      "execution_count": null,
      "outputs": []
    },
    {
      "cell_type": "markdown",
      "source": [
        "Now we check that GPU-support is available. If not, you may have forgotten to select the GPU hardware accelerator. We also set some useful constants."
      ],
      "metadata": {
        "id": "oeD2W1OATctD"
      }
    },
    {
      "cell_type": "code",
      "source": [
        "if not torch.cuda.is_available():\n",
        "    warnings.warn(\n",
        "        \"CUDA is not available, please check that you have selected a GPU for hardware acceleration\"\n",
        "    )\n",
        "\n",
        "DEVICE = torch.device(\"cuda\" if torch.cuda.is_available() else \"cpu\")\n",
        "N_CORES = multiprocessing.cpu_count()"
      ],
      "metadata": {
        "id": "KzS5nNW0Ta9T"
      },
      "execution_count": null,
      "outputs": []
    },
    {
      "cell_type": "markdown",
      "source": [
        "## Download and visualize the dataset"
      ],
      "metadata": {
        "id": "YdrshdD5UhHJ"
      }
    },
    {
      "cell_type": "markdown",
      "source": [
        "Next we will download and visualize the waterbirds dataset. The waterbirds dataset is a synthetic binary classification dataset where the goal is to predict if a bird is a \"Landbird\" or a \"Waterbird\". The birds have been placed on artificial backgrounds where roughly 95% of the time landbirds are against a land backdrop and waterbirds are against a water backdrop. The other 5% of the time landbirds are found over water and waterbirds are found on land. Each of the four confirgurations of \"Landbird vs. Waterbird\" and \"over land vs. over water\" makes up a subgroup. Let's begin!"
      ],
      "metadata": {
        "id": "WYO-PE_N2pH2"
      }
    },
    {
      "cell_type": "markdown",
      "source": [
        "Run the command below to download the waterbirds (should take 1-5 minutes to download). If your session stays active you won't need to re-download this each time you run it."
      ],
      "metadata": {
        "id": "5tp_x4JeW9FK"
      }
    },
    {
      "cell_type": "code",
      "source": [
        "dataset = get_dataset(dataset=\"waterbirds\", download=True)"
      ],
      "metadata": {
        "id": "f-k2gjTGLaxf"
      },
      "execution_count": null,
      "outputs": []
    },
    {
      "cell_type": "markdown",
      "source": [
        "Now lets visualize one training example from each subgroup (remember to read the section above explaining what the four subgroups are)"
      ],
      "metadata": {
        "id": "c-zmU48SUzTH"
      }
    },
    {
      "cell_type": "code",
      "source": [
        "# Get the number of groups (should be 4)\n",
        "n_groups = dataset._eval_grouper.n_groups\n",
        "\n",
        "# Get a list of all the group ids for each data point in the dataset\n",
        "group_ids = dataset._eval_grouper.metadata_to_group(dataset.metadata_array)\n",
        "\n",
        "# Define the group and class labels\n",
        "group_labels = [\"Landbird on Land\", \"Landbird on Water\", \"Waterbird on Land\", \"Waterbird on Water\"]\n",
        "class_labels = [\"Landbird\", \"Waterbird\"]\n",
        "\n",
        "# Sample one random image from each group\n",
        "np.random.seed(2)\n",
        "sample_images = [dataset[np.random.choice(np.where(group_ids == i)[0])][0] for i in range(n_groups)]\n",
        "\n",
        "# Plot the figures with the group label as the title\n",
        "fig, axs = plt.subplots(1, n_groups, figsize=(3*n_groups, 3))\n",
        "\n",
        "for i in range(n_groups):\n",
        "    axs[i].imshow(sample_images[i], extent=[0,1,0,1])\n",
        "    axs[i].set_title(group_labels[i])\n",
        "    axs[i].axis('off')\n",
        "\n",
        "plt.subplots_adjust(wspace=0.2)\n",
        "plt.show()"
      ],
      "metadata": {
        "id": "KS4ccxzWjVTG"
      },
      "execution_count": null,
      "outputs": []
    },
    {
      "cell_type": "markdown",
      "source": [
        "## Create Train, Val, Test Splits\n",
        "\n"
      ],
      "metadata": {
        "id": "Y3dpFrp6Waca"
      }
    },
    {
      "cell_type": "markdown",
      "source": [
        "We can use the built-in utilities from the `wilds` package, but to do so, we need to define the set of transforms which involves resizing, cropping and then converting the image to a tensor and then normalizing it so the inputs are roughly in the range `[-1, 1]`"
      ],
      "metadata": {
        "id": "JMR6uetLXCuE"
      }
    },
    {
      "cell_type": "code",
      "source": [
        "# Define the set of transforms used in the original paper\n",
        "data_transforms = transforms.Compose(\n",
        "    [\n",
        "        transforms.Resize((256, 256)),\n",
        "        transforms.CenterCrop((224,224)),\n",
        "        transforms.ToTensor(),\n",
        "        transforms.Normalize([0.485, 0.456, 0.406], [0.229, 0.224, 0.225],),\n",
        "    ]\n",
        ")\n",
        "\n",
        "# Built in subset utilities from \"wilds\"\n",
        "train_data = dataset.get_subset(\"train\", transform=data_transforms)\n",
        "val_data = dataset.get_subset(\"val\", transform=data_transforms)\n",
        "test_data = dataset.get_subset(\"test\", transform=data_transforms)\n",
        "\n",
        "# Construct some noisy data (This is used in the later half of the homework)\n",
        "noisy_transform = transforms.Compose([data_transforms, lambda tensor: tensor + torch.randn(tensor.size())])\n",
        "noisy_val_data = dataset.get_subset(\"val\", transform=noisy_transform)"
      ],
      "metadata": {
        "id": "iis2jVtrQApO"
      },
      "execution_count": null,
      "outputs": []
    },
    {
      "cell_type": "markdown",
      "source": [
        "Lets find out how many examples of each group are in our training sets"
      ],
      "metadata": {
        "id": "A5tUuP5jYoGE"
      }
    },
    {
      "cell_type": "code",
      "source": [
        "# Get the group id for each of the examples in each split\n",
        "train_groups = dataset._eval_grouper.metadata_to_group(train_data.metadata_array)\n",
        "val_groups = dataset._eval_grouper.metadata_to_group(val_data.metadata_array)\n",
        "test_groups = dataset._eval_grouper.metadata_to_group(test_data.metadata_array)\n",
        "\n",
        "# Count the number of examples of each group type\n",
        "train_examples_per_group = [(train_groups == i).sum().item() for i in range(n_groups)]\n",
        "val_examples_per_group = [(val_groups == i).sum().item() for i in range(n_groups)]\n",
        "test_examples_per_group = [(test_groups == i).sum().item() for i in range(n_groups)]\n",
        "\n",
        "# Store the results in a data frame to display\n",
        "data_summary = pd.DataFrame(columns=[*group_labels, \"Total\"])\n",
        "data_summary.loc[0] = [*train_examples_per_group, sum(train_examples_per_group)]\n",
        "data_summary.loc[1] = [*val_examples_per_group, sum(val_examples_per_group)]\n",
        "data_summary.loc[2] = [*test_examples_per_group, sum(test_examples_per_group)]\n",
        "data_summary.index = ['Training Examples', 'Val Examples', 'Test Examples']\n",
        "data_summary"
      ],
      "metadata": {
        "id": "FW9n4jX9QQ5s"
      },
      "execution_count": null,
      "outputs": []
    },
    {
      "cell_type": "markdown",
      "source": [
        "## Define our Model and the functions to evaluate it"
      ],
      "metadata": {
        "id": "ea47AOMaZmQP"
      }
    },
    {
      "cell_type": "markdown",
      "source": [
        "This function loads a `resnet50` model from torchivsion and replaces the final classification layer with a new layer of the appropriate size. The waterbirds classification class is binary (\"Landbird\" or \"waterbird\") so we use two outputs."
      ],
      "metadata": {
        "id": "GlhqhIkcaFf6"
      }
    },
    {
      "cell_type": "code",
      "source": [
        "def Resnet50(outputs=2):\n",
        "    # Load a resent50 model with the default pre-trained weights\n",
        "    model = torchvision.models.resnet50(weights=torchvision.models.ResNet50_Weights.DEFAULT)\n",
        "\n",
        "    # Replace the Feature Classifier (fc) with a new linear layer with 2 output dimensions\n",
        "    d = model.fc.in_features\n",
        "    model.fc = nn.Linear(d, outputs)\n",
        "    return model"
      ],
      "metadata": {
        "id": "6MRhP4lUUI8t"
      },
      "execution_count": null,
      "outputs": []
    },
    {
      "cell_type": "markdown",
      "source": [
        "This function computes the predictions of the model on the dataset. It returns the true labels, the predicted labels and the group id of each datapoint in the dataset"
      ],
      "metadata": {
        "id": "BQuFhUf0ak2f"
      }
    },
    {
      "cell_type": "code",
      "source": [
        "def get_predictions(model, dataset, batch_size=32):\n",
        "    # Put the model on the target device\n",
        "    model = model.to(DEVICE)\n",
        "\n",
        "    # Construct a dataloader with the specified batch size\n",
        "    dataloader = DataLoader(dataset, batch_size=batch_size, num_workers=N_CORES)\n",
        "\n",
        "    # Empty arrays for storing labels and predictions and groups\n",
        "    ypred = []\n",
        "    y = []\n",
        "    group = []\n",
        "\n",
        "    # Put the model in eval model and don't store gradients\n",
        "    model.eval()\n",
        "    with torch.no_grad():\n",
        "        # Loop through all data in batches\n",
        "        for inputs, labels, metadata in dataloader:\n",
        "            groups = dataset.dataset._eval_grouper.metadata_to_group(metadata)\n",
        "            inputs = inputs.to(DEVICE)\n",
        "            labels = labels.to(DEVICE)\n",
        "\n",
        "            # Compute model outputs and  predictions\n",
        "            outputs = model(inputs)\n",
        "            predicted = torch.argmax(outputs.data, 1)\n",
        "\n",
        "            # Store the results\n",
        "            ypred.extend(predicted.cpu().numpy())\n",
        "            y.extend(labels.cpu().numpy())\n",
        "            group.extend(groups)\n",
        "\n",
        "    return np.array(y), np.array(ypred), np.array(group)"
      ],
      "metadata": {
        "id": "Ncb1BlAcaQ3W"
      },
      "execution_count": null,
      "outputs": []
    },
    {
      "cell_type": "markdown",
      "source": [
        "This function uses the previous function and computes the per-group performance of the model on the provided dataset"
      ],
      "metadata": {
        "id": "7opDFkapfom9"
      }
    },
    {
      "cell_type": "code",
      "source": [
        "def evaluate(model, dataset, batch_size=32):\n",
        "    # Get the predictions\n",
        "    y, ypred, group = get_predictions(model, dataset, batch_size)\n",
        "\n",
        "    # Compute accuracy for each group\n",
        "    accuracies = []\n",
        "    for i in range(n_groups):\n",
        "        group_indices = group == i\n",
        "        group_y = y[group_indices]\n",
        "        group_ypred = ypred[group_indices]\n",
        "        accuracy = (group_y == group_ypred).mean()\n",
        "        accuracies.append(accuracy)\n",
        "\n",
        "    # Add the aggregate accuracy\n",
        "    accuracies.append((y == ypred).mean())\n",
        "    return accuracies\n"
      ],
      "metadata": {
        "id": "CLc3GnLyfoSm"
      },
      "execution_count": null,
      "outputs": []
    },
    {
      "cell_type": "markdown",
      "source": [
        "## Empirical Risk Minimization (ERM)\n",
        "\n",
        "---\n",
        "This is where we will begin our implementation, starting with the basic formulation of statistical machine learning: Empirical Risk Minimization.\n"
      ],
      "metadata": {
        "id": "6I-CfqhGf8Id"
      }
    },
    {
      "cell_type": "markdown",
      "source": [
        "This function trains a model using empirical risk minimization on the provided dataset"
      ],
      "metadata": {
        "id": "kQNQBXROgAlm"
      }
    },
    {
      "cell_type": "code",
      "source": [
        "def train_ERM(\n",
        "    model,\n",
        "    dataset,\n",
        "    batch_size=128,\n",
        "    num_epochs=1,\n",
        "    learning_rate=1e-3,\n",
        "    weight_decay=1e-4,\n",
        "):\n",
        "    # Move the model to the device\n",
        "    model = model.to(DEVICE)\n",
        "\n",
        "    # <<<<<< Put your code here\n",
        "    # Define the criterion to be used in the loss function [1 line]\n",
        "    # Hint: you can find a list of loss functions here: https://pytorch.org/docs/stable/nn.html#loss-functions.\n",
        "\n",
        "    # >>>>>\n",
        "\n",
        "    # Define the optimizer\n",
        "    optimizer = torch.optim.SGD(\n",
        "        model.parameters(), lr=learning_rate, momentum=0.9, weight_decay=weight_decay\n",
        "    )\n",
        "\n",
        "    # Construct the DataLoader\n",
        "    dataloader = DataLoader(\n",
        "        dataset, batch_size=batch_size, shuffle=True, num_workers=N_CORES\n",
        "    )\n",
        "\n",
        "    # Construct the progess bar\n",
        "    num_batches = len(dataloader)\n",
        "    progress_bar = tqdm(\n",
        "        total=num_batches * num_epochs, desc=\"Training Progress\", position=0, leave=True\n",
        "    )\n",
        "\n",
        "\n",
        "    # Put the model into train mode\n",
        "    model.train()\n",
        "\n",
        "    # Loop over epochs\n",
        "    for epoch in range(num_epochs):\n",
        "        running_loss = 0.0\n",
        "\n",
        "        # Loop over data\n",
        "        for (i, (inputs, labels, _)) in enumerate(dataloader):\n",
        "            inputs = inputs.to(DEVICE)\n",
        "            labels = labels.to(DEVICE)\n",
        "\n",
        "            # <<<<<< Put your code here\n",
        "            # Zero the gradients in the optimizezr [1 line]\n",
        "\n",
        "            # Compute the model outputs [1 line]\n",
        "\n",
        "            # compute the loss according the criterion [1 line]\n",
        "            # NOTE: Please keep this variable named \"loss\" as it is used later on to keep track of the running loss\n",
        "            loss = None\n",
        "\n",
        "            # Compute gradients of the loss and step the optimizer [2 lines]\n",
        "\n",
        "            # >>>>>\n",
        "\n",
        "            # Accumlate the running loss and update the progress bar\n",
        "            running_loss += loss.item()\n",
        "            progress_bar.update(1)\n",
        "            progress_bar.set_postfix({'Epoch': epoch+1, 'Batch': i+1, 'Train_Loss': running_loss / (i+1)})\n",
        "\n",
        "    progress_bar.close()"
      ],
      "metadata": {
        "id": "jSyq9w5WtRIe"
      },
      "execution_count": null,
      "outputs": []
    },
    {
      "cell_type": "markdown",
      "source": [
        "Let's train our first model!\n",
        "This should take about 1 min"
      ],
      "metadata": {
        "id": "ph1sNTRYjWFr"
      }
    },
    {
      "cell_type": "code",
      "source": [
        "ERM_resnet = Resnet50()\n",
        "train_ERM(ERM_resnet, train_data)"
      ],
      "metadata": {
        "id": "uzgACrpNvxAA"
      },
      "execution_count": null,
      "outputs": []
    },
    {
      "cell_type": "markdown",
      "source": [
        "Now that we have trained our model, let's evaluate it on the validation set to see how well we did"
      ],
      "metadata": {
        "id": "ZnSvy5rnjc61"
      }
    },
    {
      "cell_type": "code",
      "source": [
        "ERM_resnet_val_accuracies = evaluate(ERM_resnet, val_data)\n",
        "ERM_resnet_noisy_val_accuracies = evaluate(ERM_resnet, noisy_val_data) # For later"
      ],
      "metadata": {
        "id": "ph6PdUuF16-7"
      },
      "execution_count": null,
      "outputs": []
    },
    {
      "cell_type": "markdown",
      "source": [
        "Store the results in a table that we will re-use"
      ],
      "metadata": {
        "id": "VjzcvcLepl_s"
      }
    },
    {
      "cell_type": "code",
      "source": [
        "results = pd.DataFrame(columns=[*group_labels, \"Aggregate\"])\n",
        "results.loc[0] = ERM_resnet_val_accuracies\n",
        "results.rename(index={0: 'ERM - ResNet - Val'}, inplace=True)\n",
        "results"
      ],
      "metadata": {
        "id": "m9QnTUOY6uwd"
      },
      "execution_count": null,
      "outputs": []
    },
    {
      "cell_type": "code",
      "source": [
        "torch.save(ERM_resnet, \"ERM_resnet.ckpt\")\n"
      ],
      "metadata": {
        "id": "JK2bvcifHu-j"
      },
      "execution_count": null,
      "outputs": []
    },
    {
      "cell_type": "markdown",
      "source": [
        "Clear the GPU memory so we can train a new model next"
      ],
      "metadata": {
        "id": "wq5u8BphuJsS"
      }
    },
    {
      "cell_type": "code",
      "source": [
        "del ERM_resnet\n",
        "torch.cuda.empty_cache()"
      ],
      "metadata": {
        "id": "1BueqzJmt2cx"
      },
      "execution_count": null,
      "outputs": []
    },
    {
      "cell_type": "markdown",
      "source": [
        "## Group Distributionally Robust Optimization (GroupDRO)"
      ],
      "metadata": {
        "id": "Sbilm3sGlWSo"
      }
    },
    {
      "cell_type": "code",
      "source": [
        "def train_GroupDRO(\n",
        "    model,\n",
        "    dataset,\n",
        "    batch_size=128,\n",
        "    num_epochs=1,\n",
        "    learning_rate=1e-3,\n",
        "    weight_decay=1e-4,\n",
        "    step_size=0.01 # This is \\eta_q from the slides\n",
        "):\n",
        "    # Move the model to the device\n",
        "    model = model.to(DEVICE)\n",
        "\n",
        "    # <<<<<< Put your code here\n",
        "    # Define the criterion to be used in the loss function [1 line]\n",
        "\n",
        "    # >>>>>\n",
        "\n",
        "    # Define the optimizer\n",
        "    optimizer = torch.optim.SGD(\n",
        "        model.parameters(), lr=learning_rate, momentum=0.9, weight_decay=weight_decay\n",
        "    )\n",
        "\n",
        "    # Construct the DataLoader\n",
        "    dataloader = DataLoader(\n",
        "        dataset, batch_size=batch_size, shuffle=True, num_workers=N_CORES\n",
        "    )\n",
        "\n",
        "    # Construct the progess bar\n",
        "    num_batches = len(dataloader)\n",
        "    progress_bar = tqdm(\n",
        "        total=num_batches * num_epochs, desc=\"Training Progress\", position=0, leave=True\n",
        "    )\n",
        "\n",
        "\n",
        "    # Put the model into train mode\n",
        "    model.train()\n",
        "\n",
        "    # <<<<<< Put your code here\n",
        "    # Initialize group weights to all ones [1 line]\n",
        "    # Hint: to get the number of groups use the varialbe \"n_groups\" which we defined when we loaded in the dataset.\n",
        "\n",
        "    # >>>>>\n",
        "\n",
        "    # Loop over epochs\n",
        "    for epoch in range(num_epochs):\n",
        "        running_loss = 0.0\n",
        "\n",
        "        # Loop over data\n",
        "        for (i, (inputs, labels, metadata)) in enumerate(dataloader):\n",
        "            inputs = inputs.to(DEVICE)\n",
        "            labels = labels.to(DEVICE)\n",
        "            groups = dataset.dataset._eval_grouper.metadata_to_group(metadata)\n",
        "\n",
        "            # <<<<<< Put your code here\n",
        "            # Zero the gradients in the optimizezr [1 line]\n",
        "\n",
        "            # Compute the model outputs [1 line]\n",
        "\n",
        "            # Calculate per-group losses [~5 lines]\n",
        "            # Hint: Iterate over the group ids and compute the loss for all inputs that match the group. The \"groups\" variable defined above may be helpful.\n",
        "\n",
        "            # Update the group weights and normalize them [2 lines]\n",
        "            # Hint: The variable step_size provided as input to the function is the same as \\eta_q in the slides. Use it here.\n",
        "\n",
        "            # Compute the weighted average of per-group losses [1 line]\n",
        "            # NOTE: Please keep this variable named \"weighted_loss\" as it is used later on to keep track of the running loss\n",
        "            weighted_loss = None\n",
        "\n",
        "            # Compute gradients of the loss and step the optimizer [2 lines]\n",
        "\n",
        "            # >>>>>\n",
        "\n",
        "            # Accumlate the running loss and update the progress bar\n",
        "            running_loss += weighted_loss.item()\n",
        "            progress_bar.update(1)\n",
        "            progress_bar.set_postfix({'Epoch': epoch+1, 'Batch': i+1, 'Train_Loss': running_loss / (i+1)})\n",
        "\n",
        "    progress_bar.close()"
      ],
      "metadata": {
        "id": "5tUV5laG7FD-"
      },
      "execution_count": null,
      "outputs": []
    },
    {
      "cell_type": "markdown",
      "source": [
        "Train the GroupDRO ResNet50 Model (~1 min)"
      ],
      "metadata": {
        "id": "obe1CWeXyMBg"
      }
    },
    {
      "cell_type": "code",
      "source": [
        "GroupDRO_resnet = Resnet50()\n",
        "train_GroupDRO(GroupDRO_resnet, train_data)"
      ],
      "metadata": {
        "id": "pf-q8PuVmUBs"
      },
      "execution_count": null,
      "outputs": []
    },
    {
      "cell_type": "code",
      "source": [
        "from google.colab import files\n",
        "torch.save(GroupDRO_resnet, \"GroupDRO_resnet.ckpt\")\n",
        "files.download( \"GroupDRO_resnet.ckpt\" )"
      ],
      "metadata": {
        "id": "yjIxMijrELIK"
      },
      "execution_count": null,
      "outputs": []
    },
    {
      "cell_type": "markdown",
      "source": [
        "Evaluate the GroupDRO model on the validation set"
      ],
      "metadata": {
        "id": "4QH5klUxyG_a"
      }
    },
    {
      "cell_type": "code",
      "source": [
        "GroupDRO_resnet_val_accuracies = evaluate(GroupDRO_resnet, val_data)\n",
        "GroupDRO_resnet_noisy_val_accuracies = evaluate(GroupDRO_resnet, noisy_val_data) # For later"
      ],
      "metadata": {
        "id": "ulGpBlmVph_t"
      },
      "execution_count": null,
      "outputs": []
    },
    {
      "cell_type": "markdown",
      "source": [
        "Store the results in our table"
      ],
      "metadata": {
        "id": "04i1SLJjyD0d"
      }
    },
    {
      "cell_type": "code",
      "source": [
        "results.loc[1] = GroupDRO_resnet_val_accuracies\n",
        "results.rename(index={1: 'GroupDRO - ResNet - Val'}, inplace=True)\n",
        "results"
      ],
      "metadata": {
        "id": "VbegWwsnw3_Z"
      },
      "execution_count": null,
      "outputs": []
    },
    {
      "cell_type": "markdown",
      "source": [
        "How does GroupDRO compare to ERM?"
      ],
      "metadata": {
        "id": "KGqAwxM30veO"
      }
    },
    {
      "cell_type": "markdown",
      "source": [
        "Clear the GPU memory so we can train a new model next"
      ],
      "metadata": {
        "id": "Ky9M6aYUx8kc"
      }
    },
    {
      "cell_type": "code",
      "source": [
        "del GroupDRO_resnet\n",
        "torch.cuda.empty_cache()"
      ],
      "metadata": {
        "id": "dH6A9QhwwuDx"
      },
      "execution_count": null,
      "outputs": []
    },
    {
      "cell_type": "markdown",
      "source": [
        "## Fine-Tuning a Vision Transformer"
      ],
      "metadata": {
        "id": "MPQOWe5jyS8t"
      }
    },
    {
      "cell_type": "markdown",
      "source": [
        "This function will return a Vision Transformer that is ready to be fine-tuned. It should be intitialized with the default set of weights.\n",
        "\n",
        "To enable fine-tuning we will freeze all but the final layer"
      ],
      "metadata": {
        "id": "ZK1b8Rz1zFTa"
      }
    },
    {
      "cell_type": "code",
      "source": [
        "def ViT(output=2):\n",
        "    # <<<<<< Put your code here\n",
        "    # Load vit_b_16 torchvision model with weights=torchvision.models.ViT_B_16_Weights.DEFAULT\n",
        "\n",
        "    # Disable all of the gradients for all parameters [2 lines]\n",
        "\n",
        "    # Replace the last \"head\" with a new linear layer of the appropriate size [~2 lines]\n",
        "    # HINT: The last layer is in list called \"heads\".\n",
        "    # HINT: Refer to the ResNet50() function above to see how to make a new layer\n",
        "\n",
        "    # >>>>>\n",
        "\n",
        "    return model"
      ],
      "metadata": {
        "id": "ChTFQbrryV_A"
      },
      "execution_count": null,
      "outputs": []
    },
    {
      "cell_type": "markdown",
      "source": [
        "Train a ViT using ERM and evaluate (~2-3 min)"
      ],
      "metadata": {
        "id": "JzvxxHpyzXXn"
      }
    },
    {
      "cell_type": "code",
      "source": [
        "ERM_vit = ViT()\n",
        "train_ERM(ERM_vit, train_data)\n",
        "ERM_vit_val_accuracies = evaluate(ERM_vit, val_data)\n",
        "ERM_vit_noisy_val_accuracies = evaluate(ERM_vit, noisy_val_data)\n",
        "del ERM_vit\n",
        "torch.cuda.empty_cache()"
      ],
      "metadata": {
        "id": "pi5hNdqFzWzf"
      },
      "execution_count": null,
      "outputs": []
    },
    {
      "cell_type": "markdown",
      "source": [
        "Train a ViT using GroupDRO and evaluate  (~2-3 min)"
      ],
      "metadata": {
        "id": "KgzqsjsLza9o"
      }
    },
    {
      "cell_type": "code",
      "source": [
        "GroupDRO_vit = ViT()\n",
        "train_GroupDRO(GroupDRO_vit, train_data)\n",
        "GroupDRO_vit_val_accuracies = evaluate(GroupDRO_vit, val_data)\n",
        "GroupDRO_vit_noisy_val_accuracies = evaluate(GroupDRO_vit, noisy_val_data)\n",
        "del GroupDRO_vit\n",
        "torch.cuda.empty_cache()"
      ],
      "metadata": {
        "id": "c57z-0rA0JYU"
      },
      "execution_count": null,
      "outputs": []
    },
    {
      "cell_type": "code",
      "source": [
        "results.loc[2] = ERM_vit_val_accuracies\n",
        "results.loc[3] = GroupDRO_vit_val_accuracies\n",
        "results.rename(index={2: 'ERM - ViT - Val'}, inplace=True)\n",
        "results.rename(index={3: 'GroupDRO - ViT - Val'}, inplace=True)\n",
        "results"
      ],
      "metadata": {
        "id": "60Y_gPC_0PWb"
      },
      "execution_count": null,
      "outputs": []
    },
    {
      "cell_type": "markdown",
      "source": [
        "## Robustness to Noise"
      ],
      "metadata": {
        "id": "DD4R3UYz1j0A"
      }
    },
    {
      "cell_type": "markdown",
      "source": [
        "In addition to evaluating on the validation set, we created a \"noisy\" validation set that included Gaussian noise on the inputs.\n",
        "\n",
        "An example of Gaussian noise is below\n",
        "![](https://www.researchgate.net/publication/221913964/figure/fig7/AS:305170975084549@1449769838319/Examples-of-images-modified-by-Gaussian-noise-Gaussian-noise-was-applied-on-each-image.png)\n",
        "\n",
        "In general, a model's performance will drop due to this perturbation, but a robust model will retain its performance better. Let's see how the different model architecture compare"
      ],
      "metadata": {
        "id": "tqwAFAM61sfw"
      }
    },
    {
      "cell_type": "code",
      "source": [
        "noisy_results = pd.DataFrame(columns=[\"Clean Accuracy\", \"Noisy Accuracy\"])\n",
        "noisy_results.loc[0] = [GroupDRO_resnet_val_accuracies[-1], GroupDRO_resnet_noisy_val_accuracies[-1]]\n",
        "noisy_results.loc[1] = [GroupDRO_vit_val_accuracies[-1], GroupDRO_vit_noisy_val_accuracies[-1]]\n",
        "noisy_results.rename(index={0: 'DRO - ResNet'}, inplace=True)\n",
        "noisy_results.rename(index={1: 'DRO - ViT'}, inplace=True)\n",
        "noisy_results"
      ],
      "metadata": {
        "id": "Nngm3gDV1Sdd"
      },
      "execution_count": null,
      "outputs": []
    },
    {
      "cell_type": "markdown",
      "source": [
        "Does the pre-trained ViT improve robustness to noise?"
      ],
      "metadata": {
        "id": "MoTPjfjz6BjT"
      }
    },
    {
      "cell_type": "markdown",
      "source": [
        "## Conclusion and Bonus Activities\n",
        "\n",
        "\n",
        "---\n",
        "\n",
        "\n",
        "\n",
        "Congratulations on completing the assignment! You can stop here, or if you want to try out some additional concepts from lecture consider trying one of the following\n",
        "\n",
        "\n",
        "1. Experiment with other architectures and pre-training types. You can find a list of pre-trained models [here](https://pytorch.org/vision/stable/models.html)\n",
        "2. Experiment with robustness to other types of transformations, or try augmentating your training data with them. Available transforms in torchvision are [here](https://pytorch.org/vision/main/transforms.html)\n",
        "3. Implement DeepCORAL [paper](https://arxiv.org/abs/1607.01719), [sample code](https://github.com/DenisDsh/PyTorch-Deep-CORAL)   \n",
        "\n"
      ],
      "metadata": {
        "id": "PWwWymUs5_Dj"
      }
    }
  ]
}